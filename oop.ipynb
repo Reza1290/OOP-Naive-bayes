{
  "nbformat": 4,
  "nbformat_minor": 0,
  "metadata": {
    "colab": {
      "provenance": []
    },
    "kernelspec": {
      "name": "python3",
      "display_name": "Python 3"
    },
    "language_info": {
      "name": "python"
    }
  },
  "cells": [
    {
      "cell_type": "code",
      "execution_count": 37,
      "metadata": {
        "colab": {
          "base_uri": "https://localhost:8080/"
        },
        "id": "Kaf7Kysz4Pn9",
        "outputId": "2d403f33-b405-4bc0-e62c-61b3fd79ee50"
      },
      "outputs": [
        {
          "output_type": "stream",
          "name": "stdout",
          "text": [
            "Accuracy: 0.9558359621451105\n"
          ]
        }
      ],
      "source": [
        "import pandas as pd\n",
        "import numpy as np\n",
        "from sklearn.datasets import load_iris\n",
        "from sklearn.model_selection import train_test_split\n",
        "from sklearn.naive_bayes import GaussianNB\n",
        "from sklearn.metrics import accuracy_score\n",
        "from sklearn.preprocessing import StandardScaler, MinMaxScaler\n",
        "\n",
        "dataset = pd.read_csv('sample_data/milk_training.csv')\n",
        "train_data = np.array(dataset)[:, 0:-1]\n",
        "train_label = np.array(dataset)[:, -1]\n",
        "\n",
        "scaler = MinMaxScaler()\n",
        "train_data_scaled = scaler.fit_transform(train_data)\n",
        "\n",
        "gauss = GaussianNB()\n",
        "gauss.fit(train_data_scaled, train_label)\n",
        "\n",
        "dataset2 = pd.read_csv('sample_data/milk_testing.csv')\n",
        "test_data = np.array(dataset2)[:, 0:-1]\n",
        "test_label = np.array(dataset2)[:, -1]\n",
        "\n",
        "\n",
        "test_data_scaled = scaler.transform(test_data)\n",
        "\n",
        "predicted_labels = gauss.predict(test_data_scaled)\n",
        "\n",
        "accuracy = accuracy_score(predicted_labels, test_label)\n",
        "print(\"Accuracy:\", accuracy)\n"
      ]
    },
    {
      "cell_type": "code",
      "source": [
        "import pandas as pd\n",
        "import numpy as np\n",
        "from sklearn.naive_bayes import GaussianNB, MultinomialNB, BernoulliNB\n",
        "from sklearn.preprocessing import MinMaxScaler\n",
        "from sklearn.model_selection import train_test_split\n",
        "from sklearn.metrics import accuracy_score\n",
        "\n",
        "class NaiveBayesClassifier:\n",
        "    def __init__(self, classifier_type='Gaussian',train_dataset= '',test_dataset= '', normalize=False):\n",
        "        self.classifier_type = classifier_type\n",
        "        self.normalize = normalize\n",
        "        self.classifier = self._get_classifier()\n",
        "        self.scaler = MinMaxScaler()\n",
        "        self.train_dataset = pd.read_csv(train_dataset)\n",
        "        self.test_dataset = pd.read_csv(test_dataset)\n",
        "        self.train_data = np.array(self.train_dataset)[:, 0:-1]\n",
        "        self.train_label = np.array(self.train_dataset)[:, -1]\n",
        "        self.test_data = np.array(self.test_dataset)[:,0:-1]\n",
        "        self.test_label = np.array(self.test_dataset)[:, -1]\n",
        "        self.predicted_label = None\n",
        "\n",
        "    def _get_classifier(self):\n",
        "        if self.classifier_type.lower() == 'gaussian':\n",
        "            return GaussianNB()\n",
        "        elif self.classifier_type.lower() == 'multinomial':\n",
        "            return MultinomialNB()\n",
        "        elif self.classifier_type.lower() == 'bernoulli':\n",
        "            return BernoulliNB()\n",
        "        else:\n",
        "            raise ValueError(\"Pilih Diantara INI :D: 'Gaussian', 'Multinomial', 'Bernoulli'.\")\n",
        "\n",
        "    def fit(self):\n",
        "        if self.normalize:\n",
        "            self.train_data = self.scaler.fit_transform(self.train_data)\n",
        "        self.classifier.fit(self.train_data, self.train_label)\n",
        "\n",
        "    def predict(self):\n",
        "        if self.normalize:\n",
        "            self.test_data = self.scaler.transform(self.test_data)\n",
        "        self.predicted_label = self.classifier.predict(self.test_data)\n",
        "        return self.predicted_label\n",
        "\n",
        "    def get_accuracy(self):\n",
        "        self.accuracy = accuracy_score(self.predicted_label,self.test_label)\n",
        "        print(f'{self.classifier_type} \\t: Normalize? = {self.normalize} \\t=>', self.accuracy)\n",
        "        return self.accuracy\n",
        "\n",
        "def main():\n",
        "\n",
        "    classifier1 = NaiveBayesClassifier(classifier_type='Gaussian',train_dataset='sample_data/milk_training.csv',test_dataset='sample_data/milk_testing.csv', normalize=False)\n",
        "    classifier1.fit()\n",
        "    classifier1.predict()\n",
        "    classifier1.get_accuracy()\n",
        "\n",
        "    classifier2 = NaiveBayesClassifier(classifier_type='Multinomial',train_dataset='sample_data/milk_training.csv',test_dataset='sample_data/milk_testing.csv', normalize=False)\n",
        "    classifier2.fit()\n",
        "    classifier2.predict()\n",
        "    classifier2.get_accuracy()\n",
        "\n",
        "    classifier3 = NaiveBayesClassifier(classifier_type='Bernoulli',train_dataset='sample_data/milk_training.csv',test_dataset='sample_data/milk_testing.csv', normalize=False)\n",
        "    classifier3.fit()\n",
        "    classifier3.predict()\n",
        "    classifier3.get_accuracy()\n",
        "\n",
        "    print('')\n",
        "\n",
        "    classifier4 = NaiveBayesClassifier(classifier_type='Gaussian',train_dataset='sample_data/milk_training.csv',test_dataset='sample_data/milk_testing.csv', normalize=True)\n",
        "    classifier4.fit()\n",
        "    classifier4.predict()\n",
        "    classifier4.get_accuracy()\n",
        "\n",
        "    classifier5 = NaiveBayesClassifier(classifier_type='Multinomial',train_dataset='sample_data/milk_training.csv',test_dataset='sample_data/milk_testing.csv', normalize=True)\n",
        "    classifier5.fit()\n",
        "    classifier5.predict()\n",
        "    classifier5.get_accuracy()\n",
        "\n",
        "    classifier6 = NaiveBayesClassifier(classifier_type='Bernoulli',train_dataset='sample_data/milk_training.csv',test_dataset='sample_data/milk_testing.csv', normalize=True)\n",
        "    classifier6.fit()\n",
        "    classifier6.predict()\n",
        "    classifier6.get_accuracy()\n",
        "\n",
        "\n",
        "if __name__ == \"__main__\":\n",
        "    main()\n"
      ],
      "metadata": {
        "colab": {
          "base_uri": "https://localhost:8080/"
        },
        "id": "MB1PQDcA7yPn",
        "outputId": "efc115cd-70f5-4ce3-d3d5-4a621f283957"
      },
      "execution_count": 44,
      "outputs": [
        {
          "output_type": "stream",
          "name": "stdout",
          "text": [
            "Gaussian \t: Normalize? = False \t=> 0.9558359621451105\n",
            "Multinomial \t: Normalize? = False \t=> 0.5899053627760252\n",
            "Bernoulli \t: Normalize? = False \t=> 0.6277602523659306\n",
            "\n",
            "Gaussian \t: Normalize? = True \t=> 0.9558359621451105\n",
            "Multinomial \t: Normalize? = True \t=> 0.5615141955835962\n",
            "Bernoulli \t: Normalize? = True \t=> 0.6845425867507886\n"
          ]
        }
      ]
    },
    {
      "cell_type": "markdown",
      "source": [],
      "metadata": {
        "id": "d-mfPmjMAaiG"
      }
    }
  ]
}